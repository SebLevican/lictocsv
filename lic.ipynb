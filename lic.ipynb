{
  "cells": [
    {
      "cell_type": "code",
      "execution_count": null,
      "metadata": {
        "id": "m1qfRIwkr-Ol"
      },
      "outputs": [],
      "source": [
        "import fitz\n",
        "from io import StringIO\n",
        "import pandas as pdf\n",
        "from PyPDF2 import PdfFileWriter, PdfFileReader\n",
        "import os\n",
        "\n",
        "HOY = '03-11-2022'"
      ]
    },
    {
      "cell_type": "code",
      "execution_count": null,
      "metadata": {
        "id": "lf0c9J2AANeu"
      },
      "outputs": [],
      "source": [
        "df = pd.DataFrame(columns = ['folio','otorgamiento','salud','medico','rut_medico','especialidad',\n",
        "                             'trabajador','rut_trabajador','tipo','inicio','dias','reposo','lugar'])\n",
        "def get_text(page_dict):\n",
        "  otorgamiento = page_dict['blocks'][5]['lines'][0]['spans'][3]['text']\n",
        "  folio = page_dict['blocks'][3]['lines'][0]['spans'][0]['text']\n",
        "  salud = page_dict['blocks'][6]['lines'][0]['spans'][3]['text']\n",
        "  medico = page_dict['blocks'][9]['lines'][1]['spans'][1]['text']\n",
        "  rut_medico = page_dict['blocks'][10]['lines'][1]['spans'][1]['text']\n",
        "  especialidad = page_dict['blocks'][11]['lines'][1]['spans'][1]['text']\n",
        "  trabajador = page_dict['blocks'][14]['lines'][1]['spans'][1]['text']\n",
        "  rut_trabajador = page_dict['blocks'][15]['lines'][1]['spans'][1]['text']\n",
        "  tipo = page_dict['blocks'][18]['lines'][1]['spans'][1]['text']\n",
        "  inicio = page_dict['blocks'][20]['lines'][1]['spans'][1]['text']\n",
        "  dias = page_dict['blocks'][21]['lines'][1]['spans'][1]['text']\n",
        "  reposo = page_dict['blocks'][24]['lines'][1]['spans'][1]['text']\n",
        "  lugar = page_dict['blocks'][25]['lines'][1]['spans'][1]['text']\n",
        "  global df\n",
        "  df = df.append({\n",
        "      'folio' : folio,\n",
        "  'salud' : salud,\n",
        "  'medico' : medico,\n",
        "  'rut_medico' : rut_medico,\n",
        "  'especialidad' : especialidad,\n",
        "  'trabajador' : trabajador,\n",
        "  'rut_trabajador' : rut_trabajador,\n",
        "  'tipo' : tipo,\n",
        "  'inicio' : inicio,\n",
        "  'dias' : dias,\n",
        "  'reposo' : reposo,\n",
        "  'lugar' : lugar}, \n",
        "  ignore_index=True)\n",
        "\n"
      ]
    },
    {
      "cell_type": "code",
      "execution_count": null,
      "metadata": {
        "id": "Q2ksTZZY5lkG"
      },
      "outputs": [],
      "source": [
        "df = pd.DataFrame(columns = ['folio','otorgamiento' ,'salud','medico','rut_medico','especialidad',\n",
        "                             'trabajador','rut_trabajador','tipo','inicio','dias','reposo','lugar'])\n",
        "def get_text2(page_dict):\n",
        "  folio = page_dict['blocks'][3]['lines'][0]['spans'][0]['text']\n",
        "  ortorgamiento = page_dict['blocks'][5]['lines'][0]['spans'][3]['text']\n",
        "  salud = page_dict['blocks'][7]['lines'][0]['spans'][3]['text']\n",
        "  medico = page_dict['blocks'][10]['lines'][1]['spans'][1]['text']\n",
        "  rut_medico = page_dict['blocks'][11]['lines'][1]['spans'][1]['text']\n",
        "  especialidad = page_dict['blocks'][12]['lines'][1]['spans'][1]['text']\n",
        "  trabajador = page_dict['blocks'][15]['lines'][1]['spans'][1]['text']\n",
        "  rut_trabajador = page_dict['blocks'][16]['lines'][1]['spans'][1]['text']\n",
        "  tipo = page_dict['blocks'][19]['lines'][1]['spans'][1]['text']\n",
        "  inicio = page_dict['blocks'][21]['lines'][1]['spans'][1]['text']\n",
        "  dias = page_dict['blocks'][22]['lines'][1]['spans'][1]['text'] \n",
        "  reposo = page_dict['blocks'][25]['lines'][1]['spans'][1]['text']\n",
        "  lugar = page_dict['blocks'][26]['lines'][1]['spans'][1]['text']\n",
        "  global df\n",
        "  df = df.append({\n",
        "      'folio' : folio,\n",
        "  'salud' : salud,\n",
        "  'medico' : medico,\n",
        "  'rut_medico' : rut_medico,\n",
        "  'especialidad' : especialidad,\n",
        "  'trabajador' : trabajador,\n",
        "  'rut_trabajador' : rut_trabajador,\n",
        "  'tipo' : tipo,\n",
        "  'inicio' : inicio,\n",
        "  'dias' : dias,\n",
        "  'reposo' : reposo,\n",
        "  'lugar' : lugar}, \n",
        "  ignore_index=True)"
      ]
    },
    {
      "cell_type": "code",
      "execution_count": null,
      "metadata": {
        "id": "Tj5xYeCCBBtc"
      },
      "outputs": [],
      "source": [
        "df = pd.DataFrame(columns = ['folio','otorgamiento' ,'salud','medico','rut_medico','especialidad',\n",
        "                             'trabajador','rut_trabajador','tipo','inicio','dias','reposo','lugar'])\n",
        "def get_text3(page_dict):\n",
        "  folio = page_dict['blocks'][3]['lines'][0]['spans'][0]['text']\n",
        "  ortorgamiento = page_dict['blocks'][6]['lines'][0]['spans'][3]['text']\n",
        "  salud = page_dict['blocks'][7]['lines'][0]['spans'][3]['text']\n",
        "  medico = page_dict['blocks'][10]['lines'][1]['spans'][1]['text']\n",
        "  rut_medico = page_dict['blocks'][11]['lines'][1]['spans'][1]['text']\n",
        "  especialidad = page_dict['blocks'][12]['lines'][1]['spans'][1]['text']\n",
        "  trabajador = page_dict['blocks'][15]['lines'][1]['spans'][1]['text']\n",
        "  rut_trabajador = page_dict['blocks'][16]['lines'][1]['spans'][1]['text']\n",
        "  tipo = page_dict['blocks'][19]['lines'][1]['spans'][1]['text']\n",
        "  inicio = page_dict['blocks'][21]['lines'][1]['spans'][1]['text']\n",
        "  dias = page_dict['blocks'][22]['lines'][1]['spans'][1]['text']\n",
        "  reposo = page_dict['blocks'][25]['lines'][1]['spans'][1]['text']\n",
        "  lugar = page_dict['blocks'][26]['lines'][1]['spans'][1]['text']\n",
        "  global df\n",
        "  df = df.append({\n",
        "      'folio' : folio,\n",
        "  'salud' : salud,\n",
        "  'medico' : medico,\n",
        "  'rut_medico' : rut_medico,\n",
        "  'especialidad' : especialidad,\n",
        "  'trabajador' : trabajador,\n",
        "  'rut_trabajador' : rut_trabajador,\n",
        "  'tipo' : tipo,\n",
        "  'inicio' : inicio,\n",
        "  'dias' : dias,\n",
        "  'reposo' : reposo,\n",
        "  'lugar' : lugar}, \n",
        "  ignore_index=True)"
      ]
    },
    {
      "cell_type": "code",
      "execution_count": null,
      "metadata": {},
      "outputs": [],
      "source": [
        "df = pd.DataFrame(columns = ['folio','otorgamiento' ,'salud','medico','rut_medico','especialidad',\n",
        "                             'trabajador','rut_trabajador','tipo','inicio','dias','reposo','lugar'])\n",
        "\n",
        "def medipass(page_dict):\n",
        "    folio = page_dict['blocks'][5]['lines'][0]['spans'][0]['text']\n",
        "    salud = page_dict['blocks'][9]['lines'][3]['spans'][0]['text']\n",
        "    rut = page_dict['blocks'][15]['lines'][3]['spans'][0]['text']\n",
        "    apellido1 = page_dict['blocks'][15]['lines'][0]['spans'][0]['text']\n",
        "    apellido2 = page_dict['blocks'][15]['lines'][1]['spans'][0]['text']\n",
        "    nombre = page_dict['blocks'][15]['lines'][2]['spans'][0]['text']\n",
        "    dia_i = page_dict['blocks'][25]['lines'][0]['spans'][0]['text']\n",
        "    mes_i = page_dict['blocks'][27]['lines'][0]['spans'][0]['text']\n",
        "    ano_i = page_dict['blocks'][29]['lines'][0]['spans'][0]['text']\n",
        "    inicio = f'{dia_i}-{mes_i}-{ano_i}'\n",
        "    dias = page_dict['blocks'][32]['lines'][0]['spans'][0]['text']\n",
        "    tipo = page_dict['blocks'][36]['lines'][0]['spans'][0]['text']\n",
        "    lab = page_dict['blocks'][47]['lines'][0]['spans'][0]['text']\n",
        "    lugar = page_dict['blocks'][51]['lines'][1]['spans'][0]['text']\n",
        "    mapellido1 = page_dict['blocks'][61]['lines'][0]['spans'][0]['text']\n",
        "    mapellido2 = page_dict['blocks'][61]['lines'][1]['spans'][0]['text']\n",
        "    mnombre = page_dict['blocks'][61]['lines'][2]['spans'][0]['text']\n",
        "    mmnombre = f'{mapellido1} {mapellido2}, {mnombre}'\n",
        "    mrut = page_dict['blocks'][61]['lines'][3]['spans'][0]['text']\n",
        "    especialidad = page_dict['blocks'][162]['lines'][0]['spans'][0]['text']\n",
        "\n",
        "    global df\n",
        "    df = df.append({\n",
        "        'folio' : folio,\n",
        "        'salud' : salud,\n",
        "        'medico' : mmnombre,\n",
        "        'rut_medico' : mrut,\n",
        "        'especialidad' : especialidad,\n",
        "        'trabajador' : nombre,\n",
        "        'rut_trabajador' : rut,\n",
        "        'tipo' : tipo,\n",
        "        'inicio' : inicio,\n",
        "        'dias' : dias,\n",
        "        'reposo' : lab,\n",
        "        'lugar' : lugar}, \n",
        "        ignore_index=True)\n",
        "\n",
        "\n"
      ]
    },
    {
      "cell_type": "code",
      "execution_count": null,
      "metadata": {
        "id": "Iq5fE4kPNebA"
      },
      "outputs": [],
      "source": [
        "from pathlib import Path\n",
        "\n",
        "directory = 'licencias'\n",
        "pdf_search = Path(directory).glob('*.pdf')\n",
        "pdf_files = [str(file.absolute()) for file in pdf_search]\n",
        "\n",
        "for pdf in pdf_files:\n",
        "  with fitz.open(pdf) as doc:\n",
        "    if int(doc.page_count) == 1:\n",
        "      try:\n",
        "        page=doc[0]\n",
        "        page_dict = page.get_text('dict')\n",
        "        page_txt = page.get_text()\n",
        "        medipass(page_dict)\n",
        "      except IndexError:\n",
        "        page = doc[0]\n",
        "        page_dict = page.get_text('dict')\n",
        "        page_txt = page.get_text()\n",
        "        page_txt\n",
        "      \n",
        "    \n",
        "    else:\n",
        "      try:\n",
        "        page=doc[3]\n",
        "        page_dict = page.get_text('dict')\n",
        "        page_txt = page.get_text()\n",
        "        try:\n",
        "\n",
        "          get_text(page_dict)\n",
        "        except IndexError:\n",
        "          get_text3(page_dict)\n",
        "        except IndexError:\n",
        "          get_text2(page_dict)\n",
        "      except IndexError:\n",
        "        page = doc[0]\n",
        "        page_dict = page.get_text('dict')\n",
        "        page_txt = page.get_text()\n",
        "        page_txt \n",
        "      "
      ]
    },
    {
      "cell_type": "code",
      "execution_count": null,
      "metadata": {},
      "outputs": [],
      "source": [
        "df['folio'] = df['folio'].str[7:]\n",
        "df[['medico_a','medico_n']] = df['medico'].str.split(',',expand=True)\n",
        "df['tipo_n'] = df['tipo'].str[:2]\n",
        "df['folio'] = df['folio'].str.replace('[-K]','')\n",
        "df['folio'] = df['folio'].str.replace('io:','')\n",
        "df['folio'] = df['folio'].astype(str)\n",
        "df['rutmedico'] = df['rut_medico'].str.replace('-','')\n",
        "df['salud'] = df['salud'].str.replace('61603000-0 :','')\n",
        "df['salud'] = df['salud'].str.replace('94954000-6 : COLMENA','COLMENA')\n",
        "df['salud'] = df['salud'].str.replace('INSTITUTO DE SEGURIDAD LABORAL','MUTUAL')\n",
        "df['salud'] = df['salud'].str.replace('96501450-0 : ISAPRE CRUZ BLANCA','ISAPRE CRUZ BLANCA')\n",
        "df['salud'] = df['salud'].str.replace('CRUZ BLANCA','ISAPRE CRUZ BLANCA')\n",
        "df['salud'] = df['salud'].str.replace('VIDA TRES','ISAPRE VIDA TRES')\n",
        "df['salud'] = df['salud'].str.replace('Nueva Masvida (ex Masvida)','NUEVA MAS VIDA')\n",
        "df['salud'] = df['salud'].str.replace('96522500-5 : MASVIDA S.A.','NUEVA MAS VIDA')\n",
        "df['salud'] = df['salud'].str.replace('96572800-7 :','')\n",
        "df['especialidad'] = df['especialidad'].str.replace('-','Medicina General')\n",
        "df['otorgamiento'] = HOY\n",
        "df['reposo'] = df['reposo'].str.replace('Reposo Total','1')\n",
        "df['reposo'] = df['reposo'].astype(str)\n",
        "df['dias'] = df['dias'].astype(int)\n",
        "df.to_csv('lic.csv', encoding='latin-1')"
      ]
    },
    {
      "cell_type": "code",
      "execution_count": null,
      "metadata": {
        "id": "BzC2Ilg_Qql0"
      },
      "outputs": [],
      "source": [
        "df"
      ]
    }
  ],
  "metadata": {
    "colab": {
      "collapsed_sections": [],
      "name": "Untitled0.ipynb",
      "provenance": []
    },
    "kernelspec": {
      "display_name": "Python 3.9.13 64-bit",
      "language": "python",
      "name": "python3"
    },
    "language_info": {
      "codemirror_mode": {
        "name": "ipython",
        "version": 3
      },
      "file_extension": ".py",
      "mimetype": "text/x-python",
      "name": "python",
      "nbconvert_exporter": "python",
      "pygments_lexer": "ipython3",
      "version": "3.9.13"
    },
    "vscode": {
      "interpreter": {
        "hash": "17e5f2d697a0925a35798d808a8140c62042e1d201d09ca36be05a3b208736df"
      }
    }
  },
  "nbformat": 4,
  "nbformat_minor": 0
}
